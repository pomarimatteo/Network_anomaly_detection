{
  "nbformat": 4,
  "nbformat_minor": 0,
  "metadata": {
    "colab": {
      "provenance": [],
      "collapsed_sections": []
    },
    "kernelspec": {
      "name": "python3",
      "display_name": "Python 3"
    },
    "language_info": {
      "name": "python"
    }
  },
  "cells": [
    {
      "cell_type": "markdown",
      "source": [
        "#DIGITAL FORENSICS PROJECT\n",
        "##Project 4: NETWORK ANOMALY DETECTION\n",
        "\n",
        "AUTHORS: \n",
        "* Alexander Bonora\n",
        "* Matteo Pomari <br>\n",
        "\n"
      ],
      "metadata": {
        "id": "G5GDeA_iEd-7"
      }
    },
    {
      "cell_type": "code",
      "execution_count": 1,
      "metadata": {
        "id": "wIZ_0Ipq3gc1",
        "colab": {
          "base_uri": "https://localhost:8080/"
        },
        "outputId": "d1cb494b-fea8-4704-d9b5-5100afa885b0"
      },
      "outputs": [
        {
          "output_type": "stream",
          "name": "stdout",
          "text": [
            "Mounted at /content/drive\n"
          ]
        }
      ],
      "source": [
        "from google.colab import drive\n",
        "drive.mount('/content/drive')"
      ]
    },
    {
      "cell_type": "code",
      "execution_count": 2,
      "metadata": {
        "id": "dca437ca"
      },
      "outputs": [],
      "source": [
        "from PIL import Image\n",
        "import numpy as np\n",
        "import os\n",
        "from matplotlib import pyplot as plt\n",
        "import random as rnd\n",
        "import tensorflow as tf\n",
        "from tensorflow import keras\n",
        "from tensorflow.keras import layers\n",
        "import cv2\n",
        "import gc\n",
        "import sklearn.metrics as skm\n",
        "import seaborn as sb"
      ]
    },
    {
      "cell_type": "code",
      "source": [
        "!gdown --id 1FLmd5dbU-clkTZBYvhpUi81e6dPC0VeS"
      ],
      "metadata": {
        "colab": {
          "base_uri": "https://localhost:8080/"
        },
        "id": "_L4GyJhqZD1B",
        "outputId": "17f0d2df-f385-47f5-9fb3-11dd3f9d76b1"
      },
      "execution_count": 3,
      "outputs": [
        {
          "output_type": "stream",
          "name": "stdout",
          "text": [
            "/usr/local/lib/python3.7/dist-packages/gdown/cli.py:131: FutureWarning: Option `--id` was deprecated in version 4.3.1 and will be removed in 5.0. You don't need to pass it anymore to use a file ID.\n",
            "  category=FutureWarning,\n",
            "Downloading...\n",
            "From: https://drive.google.com/uc?id=1FLmd5dbU-clkTZBYvhpUi81e6dPC0VeS\n",
            "To: /content/train.npz\n",
            "100% 35.2M/35.2M [00:00<00:00, 171MB/s]\n"
          ]
        }
      ]
    },
    {
      "cell_type": "code",
      "execution_count": 4,
      "metadata": {
        "colab": {
          "base_uri": "https://localhost:8080/"
        },
        "id": "ee5Y-6-3hzGd",
        "outputId": "fb4307f8-74aa-465b-a815-e4b66b887957"
      },
      "outputs": [
        {
          "output_type": "stream",
          "name": "stdout",
          "text": [
            "Archive:  train.npz\n",
            "  inflating: arr_0.npy               \n"
          ]
        }
      ],
      "source": [
        "!unzip train.npz"
      ]
    },
    {
      "cell_type": "code",
      "execution_count": 5,
      "metadata": {
        "id": "T-0c8cazjbnL"
      },
      "outputs": [],
      "source": [
        "old_file_name = 'arr_0.npy'\n",
        "new_file_name = 'X_train.npy'\n",
        "os.rename(old_file_name, new_file_name)\n",
        "trainnpzfile = np.load('X_train.npy', mmap_mode = 'r')"
      ]
    },
    {
      "cell_type": "markdown",
      "source": [
        "# Dataset pre-processing\n",
        "Here we chose we take a percentage of all given dataset, we save and resize them. We create:\n",
        "\n",
        "\n",
        "1.   Train_set\n",
        "2.   Test_set\n",
        "3.   Confirmation test_set\n",
        "\n",
        "\n"
      ],
      "metadata": {
        "id": "EAKzRJ4BDq2v"
      }
    },
    {
      "cell_type": "markdown",
      "source": [
        "### TRAIN\\_SET\n"
      ],
      "metadata": {
        "id": "2NGcPlj7XsOD"
      }
    },
    {
      "cell_type": "code",
      "execution_count": 6,
      "metadata": {
        "id": "QK7LRqb3W_CS",
        "colab": {
          "base_uri": "https://localhost:8080/"
        },
        "outputId": "d0998a35-f67c-4286-eb14-ae7962f79059"
      },
      "outputs": [
        {
          "output_type": "stream",
          "name": "stdout",
          "text": [
            "Number of samples used for training:  4354\n"
          ]
        }
      ],
      "source": [
        "TEST_COVERAGE = 0.01\n",
        "\n",
        "number_of_train = int(len(trainnpzfile) * TEST_COVERAGE)\n",
        "X_train = np.zeros((number_of_train, 256, 256, 1))\n",
        "\n",
        "keys = rnd.sample(range(0, len(trainnpzfile)), number_of_train)\n",
        "\n",
        "k = 0\n",
        "\n",
        "for index in keys:\n",
        "  X_train[k] = np.resize(trainnpzfile[index],(256,256,1))\n",
        "  k += 1\n",
        "\n",
        "print('Number of samples used for training: ', number_of_train)"
      ]
    },
    {
      "cell_type": "code",
      "execution_count": 7,
      "metadata": {
        "id": "PDfx80R1CpTO"
      },
      "outputs": [],
      "source": [
        "np.save('X_train.npy', X_train)"
      ]
    },
    {
      "cell_type": "code",
      "source": [
        "!rm train.npz"
      ],
      "metadata": {
        "id": "dpd1G3iBcNO5"
      },
      "execution_count": 8,
      "outputs": []
    },
    {
      "cell_type": "code",
      "execution_count": 9,
      "metadata": {
        "id": "WRUtHwv6yYoJ",
        "colab": {
          "base_uri": "https://localhost:8080/"
        },
        "outputId": "1209f895-c0fb-4ad8-9ff9-23c6f6b5a739"
      },
      "outputs": [
        {
          "output_type": "execute_result",
          "data": {
            "text/plain": [
              "<function gc.collect(generation=2)>"
            ]
          },
          "metadata": {},
          "execution_count": 9
        }
      ],
      "source": [
        "del X_train\n",
        "del keys\n",
        "del trainnpzfile\n",
        "\n",
        "gc.collect"
      ]
    },
    {
      "cell_type": "code",
      "source": [
        "!gdown --id 1JPtOCDWyDw5H_MfHYoAzcDGJSXfukMyR"
      ],
      "metadata": {
        "colab": {
          "base_uri": "https://localhost:8080/"
        },
        "id": "TLSOwyRuaOAG",
        "outputId": "8d3fc64c-addc-4e7d-a0ee-4ca65204df50"
      },
      "execution_count": 10,
      "outputs": [
        {
          "output_type": "stream",
          "name": "stdout",
          "text": [
            "/usr/local/lib/python3.7/dist-packages/gdown/cli.py:131: FutureWarning: Option `--id` was deprecated in version 4.3.1 and will be removed in 5.0. You don't need to pass it anymore to use a file ID.\n",
            "  category=FutureWarning,\n",
            "Downloading...\n",
            "From: https://drive.google.com/uc?id=1JPtOCDWyDw5H_MfHYoAzcDGJSXfukMyR\n",
            "To: /content/test.npz\n",
            "100% 1.26M/1.26M [00:00<00:00, 136MB/s]\n"
          ]
        }
      ]
    },
    {
      "cell_type": "code",
      "source": [
        "!unzip test.npz"
      ],
      "metadata": {
        "colab": {
          "base_uri": "https://localhost:8080/"
        },
        "id": "0mgxsZpHaIgn",
        "outputId": "f8ec90dd-841a-4949-9e97-ff8ad124cd90"
      },
      "execution_count": 11,
      "outputs": [
        {
          "output_type": "stream",
          "name": "stdout",
          "text": [
            "Archive:  test.npz\n",
            "  inflating: arr_0.npy               \n"
          ]
        }
      ]
    },
    {
      "cell_type": "code",
      "execution_count": 12,
      "metadata": {
        "id": "AGV8nqd-cmnT"
      },
      "outputs": [],
      "source": [
        "old_file_name = 'arr_0.npy'\n",
        "new_file_name = 'X_test.npy'\n",
        "os.rename(old_file_name, new_file_name)"
      ]
    },
    {
      "cell_type": "code",
      "execution_count": 13,
      "metadata": {
        "id": "d8YfXMYljNfB"
      },
      "outputs": [],
      "source": [
        "testnpzfile = np.load('X_test.npy', mmap_mode = 'r')"
      ]
    },
    {
      "cell_type": "markdown",
      "source": [
        "### TEST\\_SET and VALIDATION\\_SET"
      ],
      "metadata": {
        "id": "UIEBiu3zX105"
      }
    },
    {
      "cell_type": "code",
      "execution_count": 14,
      "metadata": {
        "id": "6HnhgO0HfYwe",
        "colab": {
          "base_uri": "https://localhost:8080/"
        },
        "outputId": "ee173c69-23e2-4e78-b66c-25df3239aa1c"
      },
      "outputs": [
        {
          "output_type": "stream",
          "name": "stdout",
          "text": [
            "Extracted samples:  6022\n",
            "Test sample size:  3011\n",
            "Test sample size for result confirmation:  3011\n"
          ]
        }
      ],
      "source": [
        "TEST_SAMPLES_USED = 0.4\n",
        "\n",
        "test_used = int(len(testnpzfile) * TEST_SAMPLES_USED)\n",
        "\n",
        "number_of_test = int(test_used/2)\n",
        "number_of_val = test_used - number_of_test\n",
        "\n",
        "X_test = np.zeros((number_of_test, 256, 256, 1))\n",
        "Val_set = np.zeros((number_of_val, 256, 256, 1))\n",
        "\n",
        "keys = rnd.sample(range(0, len(testnpzfile)), test_used)\n",
        "\n",
        "keys_1 = keys[:len(keys)//2]\n",
        "keys_2 = keys[len(keys)//2:]\n",
        "\n",
        "k = 0\n",
        "\n",
        "for index in keys_1:\n",
        "  X_test[k] = np.resize(testnpzfile[index],(256,256,1))\n",
        "  k += 1\n",
        "\n",
        "k = 0\n",
        "\n",
        "for index in keys_2:\n",
        "  Val_set[k] = np.resize(testnpzfile[index],(256,256,1))\n",
        "  k += 1\n",
        "\n",
        "print('Extracted samples: ', test_used)\n",
        "print('Test sample size: ', k)\n",
        "print('Test sample size for result confirmation: ', k)"
      ]
    },
    {
      "cell_type": "code",
      "execution_count": 15,
      "metadata": {
        "id": "oOYd4hOyOS6N"
      },
      "outputs": [],
      "source": [
        "np.save('X_test.npy', X_test)\n",
        "np.save('Val_set.npy', Val_set)"
      ]
    },
    {
      "cell_type": "code",
      "source": [
        "!rm test.npz"
      ],
      "metadata": {
        "id": "fFloOqztcVwz"
      },
      "execution_count": 16,
      "outputs": []
    },
    {
      "cell_type": "code",
      "execution_count": 17,
      "metadata": {
        "id": "IerZBfbrQSgV",
        "colab": {
          "base_uri": "https://localhost:8080/"
        },
        "outputId": "5d0bbad1-f188-458f-c848-6def42ce8f56"
      },
      "outputs": [
        {
          "output_type": "execute_result",
          "data": {
            "text/plain": [
              "<function gc.collect(generation=2)>"
            ]
          },
          "metadata": {},
          "execution_count": 17
        }
      ],
      "source": [
        "del testnpzfile\n",
        "del X_test\n",
        "del Val_set\n",
        "\n",
        "gc.collect"
      ]
    },
    {
      "cell_type": "markdown",
      "source": [
        "##LABEL DATASET\n",
        "Here we create 2 lists containing the labels of our data."
      ],
      "metadata": {
        "id": "bDr9LM9UYEJq"
      }
    },
    {
      "cell_type": "code",
      "source": [
        "!gdown 1FpQQc1qJxvavcr5mz84dHDokTtWJG4IE"
      ],
      "metadata": {
        "colab": {
          "base_uri": "https://localhost:8080/"
        },
        "id": "BUPWNXzTa7vj",
        "outputId": "caeb950f-9ea2-477a-bed6-5388c91f3396"
      },
      "execution_count": 18,
      "outputs": [
        {
          "output_type": "stream",
          "name": "stdout",
          "text": [
            "Downloading...\n",
            "From: https://drive.google.com/uc?id=1FpQQc1qJxvavcr5mz84dHDokTtWJG4IE\n",
            "To: /content/test.csv\n",
            "\r  0% 0.00/558k [00:00<?, ?B/s]\r100% 558k/558k [00:00<00:00, 103MB/s]\n"
          ]
        }
      ]
    },
    {
      "cell_type": "code",
      "execution_count": 20,
      "metadata": {
        "id": "zaKz19fTceSN",
        "colab": {
          "base_uri": "https://localhost:8080/"
        },
        "outputId": "85d73177-191d-4bfb-b166-17471b3025d9"
      },
      "outputs": [
        {
          "output_type": "stream",
          "name": "stdout",
          "text": [
            "Test sample label size:  3011\n",
            "Test sample label size for result confirmation:  3011\n"
          ]
        }
      ],
      "source": [
        "import csv\n",
        "\n",
        "data = csv.reader(open('test.csv'))\n",
        "next(data)\n",
        "\n",
        "column_label = []\n",
        "\n",
        "for row in data:\n",
        "    column_label.append(row[1])\n",
        "\n",
        "column_label_1 = column_label[:len(column_label)//2]\n",
        "column_label_2 = column_label[len(column_label)//2:]\n",
        "\n",
        "Y_test = []\n",
        "Val_set_label = []\n",
        "\n",
        "for index in keys_1:\n",
        "  Y_test.append(column_label[index])\n",
        "\n",
        "for index in keys_2:\n",
        "  Val_set_label.append(column_label[index])\n",
        "\n",
        "print('Test sample label size: ', len(keys_1))\n",
        "print('Test sample label size for result confirmation: ', len(keys_2))"
      ]
    },
    {
      "cell_type": "code",
      "execution_count": 21,
      "metadata": {
        "id": "1XtIBuTZOWQt"
      },
      "outputs": [],
      "source": [
        "np.save('Y_test.npy', Y_test)\n",
        "np.save('Val_set_label.npy', Val_set_label)"
      ]
    },
    {
      "cell_type": "code",
      "source": [
        "!rm test.csv"
      ],
      "metadata": {
        "id": "jVfEsfJVquHE"
      },
      "execution_count": 22,
      "outputs": []
    },
    {
      "cell_type": "code",
      "execution_count": 23,
      "metadata": {
        "id": "eWF7xLN4C8mO",
        "colab": {
          "base_uri": "https://localhost:8080/"
        },
        "outputId": "19778983-9f68-4f60-b355-2ad5759a4476"
      },
      "outputs": [
        {
          "output_type": "execute_result",
          "data": {
            "text/plain": [
              "<function gc.collect(generation=2)>"
            ]
          },
          "metadata": {},
          "execution_count": 23
        }
      ],
      "source": [
        "del Y_test\n",
        "del Val_set_label\n",
        "del data\n",
        "del keys\n",
        "\n",
        "gc.collect"
      ]
    },
    {
      "cell_type": "code",
      "execution_count": 24,
      "metadata": {
        "id": "XXFRMBmHN7yd"
      },
      "outputs": [],
      "source": [
        "Y_test = np.load('Y_test.npy', mmap_mode = 'r')"
      ]
    },
    {
      "cell_type": "code",
      "execution_count": 25,
      "metadata": {
        "id": "uMUU-dq_PYQ8",
        "colab": {
          "base_uri": "https://localhost:8080/"
        },
        "outputId": "803ddf18-7c85-49dc-a9ce-4e6ea3da0522"
      },
      "outputs": [
        {
          "output_type": "execute_result",
          "data": {
            "text/plain": [
              "<function gc.collect(generation=2)>"
            ]
          },
          "metadata": {},
          "execution_count": 25
        }
      ],
      "source": [
        "del Y_test\n",
        "\n",
        "gc.collect"
      ]
    },
    {
      "cell_type": "code",
      "execution_count": 26,
      "metadata": {
        "id": "KkmPXx0fQzSp"
      },
      "outputs": [],
      "source": [
        "Val_set_label = np.load('Val_set_label.npy', mmap_mode = 'r')"
      ]
    },
    {
      "cell_type": "code",
      "execution_count": 27,
      "metadata": {
        "id": "wGnN4hBjQ8SI",
        "colab": {
          "base_uri": "https://localhost:8080/"
        },
        "outputId": "688ead09-a755-4392-8259-15e1c58a0718"
      },
      "outputs": [
        {
          "output_type": "execute_result",
          "data": {
            "text/plain": [
              "<function gc.collect(generation=2)>"
            ]
          },
          "metadata": {},
          "execution_count": 27
        }
      ],
      "source": [
        "del Val_set_label\n",
        "\n",
        "gc.collect"
      ]
    },
    {
      "cell_type": "markdown",
      "source": [
        "#LOSS FUNCTION\n",
        "\n",
        "Now we define the **LOSS FUNCTION**. This will be useful in the autoencoder train phase. \n",
        "The idea is to prioritize the white pixels, since they are the ones that contain the discriminating information for a clean sample versus an anomaly sample.\n",
        "\n",
        "Note that we used the optimized tensorflow libraries to improve performance and that we define 2 Loss:\n",
        "\n",
        "1.   custom_loss_function()\n",
        "2.   loss_function()\n",
        "\n",
        "in order to adapt the logic both for the train phase and for manage the individual matrix.\n"
      ],
      "metadata": {
        "id": "yvEup2zUZOVM"
      }
    },
    {
      "cell_type": "code",
      "source": [
        "def custom_loss_function(y_true, y_pred):\n",
        "  loss_sqr = tf.square(y_true - y_pred)\n",
        "  condition = tf.greater(y_true, 0)\n",
        "  mask = tf.boolean_mask(loss_sqr, condition)\n",
        "  return tf.reduce_mean(mask)"
      ],
      "metadata": {
        "id": "V4qsp3_E50j9"
      },
      "execution_count": 28,
      "outputs": []
    },
    {
      "cell_type": "code",
      "source": [
        "def loss_function(y_true, y_pred):\n",
        "  loss_vector = []\n",
        "\n",
        "  for a,b in zip(y_true, y_pred):\n",
        "    loss_sqr = tf.square(a - b)\n",
        "    condition = tf.greater(a, 0)\n",
        "    mask = tf.boolean_mask(loss_sqr, condition)\n",
        "    loss_vector.append(tf.reduce_mean(mask))\n",
        "  return loss_vector"
      ],
      "metadata": {
        "id": "azR0rlMC53_P"
      },
      "execution_count": 29,
      "outputs": []
    },
    {
      "cell_type": "code",
      "execution_count": 30,
      "metadata": {
        "id": "79mVtHfJZ36A"
      },
      "outputs": [],
      "source": [
        "X_train = np.load('X_train.npy', mmap_mode = 'r')"
      ]
    },
    {
      "cell_type": "markdown",
      "source": [
        "#AUTOENCODER\n",
        "**Build the model**"
      ],
      "metadata": {
        "id": "YE0iVqryat2K"
      }
    },
    {
      "cell_type": "code",
      "execution_count": 31,
      "metadata": {
        "id": "eLgsDFlYdvDy",
        "colab": {
          "base_uri": "https://localhost:8080/"
        },
        "outputId": "004abe76-7a42-4a94-8e68-3b099e933152"
      },
      "outputs": [
        {
          "output_type": "stream",
          "name": "stdout",
          "text": [
            "Model: \"autoencoder\"\n",
            "_________________________________________________________________\n",
            " Layer (type)                Output Shape              Param #   \n",
            "=================================================================\n",
            " input_1 (InputLayer)        [(None, 256, 256, 1)]     0         \n",
            "                                                                 \n",
            " conv2d (Conv2D)             (None, 256, 256, 16)      160       \n",
            "                                                                 \n",
            " max_pooling2d (MaxPooling2D  (None, 128, 128, 16)     0         \n",
            " )                                                               \n",
            "                                                                 \n",
            " conv2d_1 (Conv2D)           (None, 128, 128, 8)       1160      \n",
            "                                                                 \n",
            " max_pooling2d_1 (MaxPooling  (None, 64, 64, 8)        0         \n",
            " 2D)                                                             \n",
            "                                                                 \n",
            " flatten (Flatten)           (None, 32768)             0         \n",
            "                                                                 \n",
            " dense (Dense)               (None, 32)                1048608   \n",
            "                                                                 \n",
            " dense_1 (Dense)             (None, 32768)             1081344   \n",
            "                                                                 \n",
            " reshape (Reshape)           (None, 64, 64, 8)         0         \n",
            "                                                                 \n",
            " up_sampling2d (UpSampling2D  (None, 128, 128, 8)      0         \n",
            " )                                                               \n",
            "                                                                 \n",
            " conv2d_transpose (Conv2DTra  (None, 128, 128, 16)     1168      \n",
            " nspose)                                                         \n",
            "                                                                 \n",
            " up_sampling2d_1 (UpSampling  (None, 256, 256, 16)     0         \n",
            " 2D)                                                             \n",
            "                                                                 \n",
            " conv2d_transpose_1 (Conv2DT  (None, 256, 256, 1)      145       \n",
            " ranspose)                                                       \n",
            "                                                                 \n",
            "=================================================================\n",
            "Total params: 2,132,585\n",
            "Trainable params: 2,132,585\n",
            "Non-trainable params: 0\n",
            "_________________________________________________________________\n"
          ]
        }
      ],
      "source": [
        "encoder_input = keras.Input(shape=(256, 256, 1))\n",
        "x = layers.Conv2D(16, (3, 3), activation='relu', padding='same')(encoder_input)\n",
        "\n",
        "x = layers.MaxPooling2D((2, 2), padding='same')(x)\n",
        "\n",
        "x = layers.Conv2D(8, (3, 3), activation='relu', padding='same')(x)\n",
        "\n",
        "x = layers.MaxPooling2D((2, 2), padding='same')(x)\n",
        "\n",
        "x = layers.Flatten()(x)\n",
        "\n",
        "encoder_output = layers.Dense(32, activation='relu')(x)\n",
        "\n",
        "decoder_input = layers.Dense(32768, activation='relu')(encoder_output)\n",
        "\n",
        "x = layers.Reshape((64, 64, 8))(decoder_input)\n",
        "\n",
        "x = layers.UpSampling2D((2, 2))(x)\n",
        "\n",
        "x = layers.Conv2DTranspose(16, kernel_size=3, activation='relu', padding='same')(x)\n",
        "\n",
        "x = layers.UpSampling2D((2, 2))(x)\n",
        "\n",
        "decoder_output= layers.Conv2DTranspose(1, kernel_size=3, activation='relu', padding='same')(x)\n",
        "\n",
        "autoencoder = keras.Model(encoder_input, decoder_output, name = 'autoencoder')\n",
        "optimizer = keras.optimizers.Adam()\n",
        "\n",
        "autoencoder.summary()"
      ]
    },
    {
      "cell_type": "markdown",
      "source": [
        "#COMPILE \\& FIT PHASE\n",
        "Here we use the already defined train_loss implementing a callbacks.\n",
        "\n",
        "Note that the autoencoder is trained using only the clean samples."
      ],
      "metadata": {
        "id": "NEwmbWXpbAtM"
      }
    },
    {
      "cell_type": "code",
      "execution_count": 32,
      "metadata": {
        "id": "gFjjEtKnfmBX",
        "colab": {
          "base_uri": "https://localhost:8080/"
        },
        "outputId": "18fc88e1-2b03-4c8d-8ace-6a400f155c0b"
      },
      "outputs": [
        {
          "output_type": "stream",
          "name": "stdout",
          "text": [
            "Epoch 1/8\n",
            "273/273 [==============================] - 281s 1s/step - loss: 7089.3809\n",
            "Epoch 2/8\n",
            "273/273 [==============================] - 279s 1s/step - loss: 3190.2549\n",
            "Epoch 3/8\n",
            "273/273 [==============================] - 277s 1s/step - loss: 2635.1943\n",
            "Epoch 4/8\n",
            "273/273 [==============================] - 282s 1s/step - loss: 2263.1675\n",
            "Epoch 5/8\n",
            "273/273 [==============================] - 279s 1s/step - loss: 1991.8473\n",
            "Epoch 6/8\n",
            "273/273 [==============================] - 286s 1s/step - loss: 1727.4235\n",
            "Epoch 7/8\n",
            "273/273 [==============================] - 282s 1s/step - loss: 1571.8253\n",
            "Epoch 8/8\n",
            "273/273 [==============================] - 284s 1s/step - loss: 1412.7379\n"
          ]
        },
        {
          "output_type": "execute_result",
          "data": {
            "text/plain": [
              "<keras.callbacks.History at 0x7f4e3875eb50>"
            ]
          },
          "metadata": {},
          "execution_count": 32
        }
      ],
      "source": [
        "callback = tf.keras.callbacks.EarlyStopping(monitor='loss', patience=3)\n",
        "autoencoder.compile(optimizer, loss = custom_loss_function)\n",
        "autoencoder.fit(X_train, X_train, epochs = 8, batch_size = 16, callbacks=[callback])"
      ]
    },
    {
      "cell_type": "markdown",
      "source": [
        "**PREDICT THE MODEL OVER X_TRAIN**"
      ],
      "metadata": {
        "id": "lNHP5DBOdDtg"
      }
    },
    {
      "cell_type": "code",
      "execution_count": 33,
      "metadata": {
        "id": "YoaD441C2O-t"
      },
      "outputs": [],
      "source": [
        "ae_out = autoencoder.predict(X_train)\n",
        "np.save('ae_out_train.npy', ae_out)"
      ]
    },
    {
      "cell_type": "code",
      "execution_count": 34,
      "metadata": {
        "id": "oBhyP1Uo2e_w",
        "colab": {
          "base_uri": "https://localhost:8080/"
        },
        "outputId": "c8a4accd-be27-4b7f-fd67-688f031172ea"
      },
      "outputs": [
        {
          "output_type": "execute_result",
          "data": {
            "text/plain": [
              "<function gc.collect(generation=2)>"
            ]
          },
          "metadata": {},
          "execution_count": 34
        }
      ],
      "source": [
        "del ae_out\n",
        "\n",
        "gc.collect"
      ]
    },
    {
      "cell_type": "code",
      "execution_count": 35,
      "metadata": {
        "id": "NUdUsNKj2gzr"
      },
      "outputs": [],
      "source": [
        "ae_out = np.load('ae_out_train.npy', mmap_mode = 'r')"
      ]
    },
    {
      "cell_type": "markdown",
      "source": [
        "#COMPUTE THE TRAIN DATASET LOSS\n",
        "\n",
        "Here we calcolate the loss_function on the train dataset.\n"
      ],
      "metadata": {
        "id": "HhiWI5M_csv2"
      }
    },
    {
      "cell_type": "code",
      "execution_count": 36,
      "metadata": {
        "id": "PHtRgN6JYFDl"
      },
      "outputs": [],
      "source": [
        "mse_train = loss_function(X_train, ae_out)"
      ]
    },
    {
      "cell_type": "code",
      "execution_count": 37,
      "metadata": {
        "id": "lI_vTbXdVlCM"
      },
      "outputs": [],
      "source": [
        "np.save('mse_train.npy', mse_train)"
      ]
    },
    {
      "cell_type": "code",
      "execution_count": 38,
      "metadata": {
        "id": "Zl3h4qjcnXW-",
        "colab": {
          "base_uri": "https://localhost:8080/"
        },
        "outputId": "19e98acb-21e8-47e5-b2aa-63c42b5ac457"
      },
      "outputs": [
        {
          "output_type": "execute_result",
          "data": {
            "text/plain": [
              "<function gc.collect(generation=2)>"
            ]
          },
          "metadata": {},
          "execution_count": 38
        }
      ],
      "source": [
        "del mse_train\n",
        "del ae_out\n",
        "del X_train\n",
        "\n",
        "gc.collect"
      ]
    },
    {
      "cell_type": "code",
      "execution_count": 39,
      "metadata": {
        "id": "5BiwUdemnW9T"
      },
      "outputs": [],
      "source": [
        "X_test = np.load('X_test.npy', mmap_mode = 'r')"
      ]
    },
    {
      "cell_type": "markdown",
      "source": [
        "**PREDICT THE MODEL OVER X_TEST**"
      ],
      "metadata": {
        "id": "zp-DhQwbd3mN"
      }
    },
    {
      "cell_type": "code",
      "execution_count": 40,
      "metadata": {
        "id": "3a2ZCSlp2xEJ"
      },
      "outputs": [],
      "source": [
        "ae_out = autoencoder.predict(X_test)\n",
        "np.save('ae_out_test.npy', ae_out)"
      ]
    },
    {
      "cell_type": "code",
      "execution_count": 41,
      "metadata": {
        "id": "hYa-v4ig220z",
        "colab": {
          "base_uri": "https://localhost:8080/"
        },
        "outputId": "5b067c62-9d1d-4d7b-efa6-c1c62f7e4463"
      },
      "outputs": [
        {
          "output_type": "execute_result",
          "data": {
            "text/plain": [
              "<function gc.collect(generation=2)>"
            ]
          },
          "metadata": {},
          "execution_count": 41
        }
      ],
      "source": [
        "del ae_out\n",
        "\n",
        "gc.collect"
      ]
    },
    {
      "cell_type": "code",
      "execution_count": 42,
      "metadata": {
        "id": "IDC5yRk627ar"
      },
      "outputs": [],
      "source": [
        "ae_out = np.load('ae_out_test.npy', mmap_mode = 'r')"
      ]
    },
    {
      "cell_type": "markdown",
      "source": [
        "#COMPUTE THE TEST DATASET LOSS\n",
        "\n",
        "Here we calcolate the loss_function on the test dataset."
      ],
      "metadata": {
        "id": "VPIZPXdOd9N9"
      }
    },
    {
      "cell_type": "code",
      "source": [
        "mse_test = loss_function(X_test, ae_out)"
      ],
      "metadata": {
        "id": "--70X9ps7Ex-"
      },
      "execution_count": 43,
      "outputs": []
    },
    {
      "cell_type": "code",
      "execution_count": 44,
      "metadata": {
        "id": "jNVBbYdSVtgS"
      },
      "outputs": [],
      "source": [
        "np.save('mse_test.npy', mse_test)"
      ]
    },
    {
      "cell_type": "code",
      "execution_count": 45,
      "metadata": {
        "id": "joueu3P0nm4c",
        "colab": {
          "base_uri": "https://localhost:8080/"
        },
        "outputId": "023bfd58-e6c9-4ef9-f43c-558d72f05360"
      },
      "outputs": [
        {
          "output_type": "execute_result",
          "data": {
            "text/plain": [
              "<function gc.collect(generation=2)>"
            ]
          },
          "metadata": {},
          "execution_count": 45
        }
      ],
      "source": [
        "del mse_test\n",
        "del X_test\n",
        "\n",
        "gc.collect"
      ]
    },
    {
      "cell_type": "code",
      "execution_count": 46,
      "metadata": {
        "id": "LUbvnMe9yE1K"
      },
      "outputs": [],
      "source": [
        "Val_set = np.load('Val_set.npy', mmap_mode = 'r')\n",
        "Y_test = np.load('Y_test.npy', mmap_mode = 'r')"
      ]
    },
    {
      "cell_type": "markdown",
      "source": [
        "**PREDICT THE MODEL OVER VAL_SET**"
      ],
      "metadata": {
        "id": "n70G3gtJeRBm"
      }
    },
    {
      "cell_type": "code",
      "execution_count": 47,
      "metadata": {
        "id": "h8QxGKuWzniU"
      },
      "outputs": [],
      "source": [
        "ae_out = autoencoder.predict(Val_set)\n",
        "np.save('ae_out_valid.npy', ae_out)"
      ]
    },
    {
      "cell_type": "markdown",
      "source": [
        "#COMPUTE THE VALIDATION DATASET LOSS\n",
        "\n",
        "Here we calcolate the loss_function on the test dataset."
      ],
      "metadata": {
        "id": "YFj4JAgfeHRX"
      }
    },
    {
      "cell_type": "code",
      "execution_count": 48,
      "metadata": {
        "id": "Xi5NbOdMzP-k"
      },
      "outputs": [],
      "source": [
        "mse_val = loss_function(Val_set, ae_out)\n",
        "np.save('mse_val.npy', mse_val)"
      ]
    },
    {
      "cell_type": "code",
      "execution_count": 49,
      "metadata": {
        "id": "ELdEhhhrz1EB",
        "colab": {
          "base_uri": "https://localhost:8080/"
        },
        "outputId": "b25533ed-5cdd-4354-8809-c6fbc7e4267b"
      },
      "outputs": [
        {
          "output_type": "execute_result",
          "data": {
            "text/plain": [
              "<function gc.collect(generation=2)>"
            ]
          },
          "metadata": {},
          "execution_count": 49
        }
      ],
      "source": [
        "del Y_test\n",
        "del Val_set\n",
        "del mse_val\n",
        "\n",
        "gc.collect"
      ]
    },
    {
      "cell_type": "code",
      "execution_count": 50,
      "metadata": {
        "id": "QFKfEBLfV3hP"
      },
      "outputs": [],
      "source": [
        "mse_train = np.load('mse_train.npy')"
      ]
    },
    {
      "cell_type": "markdown",
      "source": [
        "#Threshold\n",
        "\n",
        "Here we calculate the Threshold: which determines whether an image is to be considered clean or anomaly, by using the computed losses.\n",
        "\n",
        "The idea of the algorithm is to make a loop that gradually increases the threshold and at each step saves how many samples were categorized correctly.\n",
        "\n",
        "The starting value is the mean of mse_train calculated as percentage of the max mse_train value, which can reach the maximum value considered as 100% contained in mse_train. We evaluate the performance of the classification by increasing by 5% at each loop.\n",
        "\n",
        "This threshold is set to have a good performance for having low FALSE CLEAN.\n",
        "\n",
        "There is a commented part which sets a good threshold in order to have low FALSE ANOMALY.\n",
        "\n",
        "Priority was given in lowering the amount of anomalies falling through while still performing well for the clean not making it through."
      ],
      "metadata": {
        "id": "FEpzN2SseXH3"
      }
    },
    {
      "cell_type": "code",
      "source": [
        "MEAN = np.mean(mse_train)\n",
        "MAX = np.max(mse_train)\n",
        "STEP = 5\n",
        "START = int(((MEAN/MAX)*100)/STEP)*STEP #want to round to a 5%\n",
        "\n",
        "thresholds = []\n",
        "percentage = []\n",
        "\n",
        "for c in range(START, 101, STEP):\n",
        "  true_clean = 0\n",
        "  false_anomaly = 0\n",
        "  threshold = (c/100)*MAX\n",
        "  for i in mse_train: \n",
        "    if i <= threshold:\n",
        "      true_clean += 1\n",
        "    else:\n",
        "      false_anomaly += 1\n",
        "  percentage.append(true_clean)\n",
        "  thresholds.append(threshold)\n",
        "\n",
        "\n",
        "percentage_array = np.array(percentage)\n",
        "difference_percentage_array = np.diff(percentage_array)\n",
        "difference_percentage = difference_percentage_array.tolist()\n",
        "\n",
        "#### BEST FIT FOR CLEAN\n",
        "'''\n",
        "for i in range(len(difference_percentage)):\n",
        "  if difference_percentage[i] > 5:\n",
        "    index = i\n",
        "threshold = thresholds[index + 1]\n",
        "'''\n",
        "\n",
        "###BEST GENERAL FIT\n",
        "\n",
        "print('Maximum anomalies taken improvement: ', max(difference_percentage))\n",
        "max_index = difference_percentage.index(max(difference_percentage))\n",
        "threshold = thresholds[max_index + 1]  \n",
        "\n",
        "print('Anomalies taken improvement: ', difference_percentage)\n",
        "print('Threshold value: ', threshold)\n",
        "\n",
        "clean = 0\n",
        "anomaly = 0\n",
        "\n",
        "for mse in mse_train: \n",
        "  if mse <= threshold:\n",
        "    clean += 1\n",
        "  else:\n",
        "    anomaly += 1\n",
        "\n",
        "print('Number of clean in training set: ', clean)\n",
        "print('Number of anomaly in training set: ', anomaly)\n",
        "print('Accuracy percentage in training set: ', clean / (clean + anomaly))"
      ],
      "metadata": {
        "colab": {
          "base_uri": "https://localhost:8080/"
        },
        "id": "jjyvLQLekaxL",
        "outputId": "0883e1e0-b1f0-4bd9-e944-64b71dc230be"
      },
      "execution_count": 51,
      "outputs": [
        {
          "output_type": "stream",
          "name": "stdout",
          "text": [
            "Maximum anomalies taken improvement:  941\n",
            "Anomalies taken improvement:  [941, 431, 219, 115, 60, 34, 8, 9, 5, 2, 3, 1, 1, 3, 3, 0, 0, 0, 2]\n",
            "Threshold value:  1952.7848558785627\n",
            "Number of clean in training set:  3458\n",
            "Number of anomaly in training set:  896\n",
            "Accuracy percentage in training set:  0.7942122186495176\n"
          ]
        }
      ]
    },
    {
      "cell_type": "code",
      "execution_count": 52,
      "metadata": {
        "id": "0HR9CmZzyBI3"
      },
      "outputs": [],
      "source": [
        "mse_test = np.load('mse_test.npy', mmap_mode = 'r')"
      ]
    },
    {
      "cell_type": "code",
      "execution_count": 53,
      "metadata": {
        "id": "pJt7ogyI7n0o"
      },
      "outputs": [],
      "source": [
        "Y_test = np.load('Y_test.npy', mmap_mode = 'r')"
      ]
    },
    {
      "cell_type": "markdown",
      "source": [
        "#CONFUSION MATRIX\n",
        "\n",
        "Here we can visualize how our autoencoder categorizes the images using the threshold computed above for 3 dataset:\n",
        "\n",
        "\n",
        "1.   Test set\n",
        "2.   Confirmation test set\n",
        "\n"
      ],
      "metadata": {
        "id": "Box9o58ufgBY"
      }
    },
    {
      "cell_type": "code",
      "execution_count": 54,
      "metadata": {
        "id": "oNfpOak4mfQA"
      },
      "outputs": [],
      "source": [
        "true_Y_label = []\n",
        "calc_Y_label = []\n",
        "\n",
        "true_Y_label = [int(label != 'clean') for label in Y_test]\n",
        "calc_Y_label = [int(mse >= threshold) for mse in mse_test]"
      ]
    },
    {
      "cell_type": "code",
      "execution_count": 55,
      "metadata": {
        "id": "xiok80b1lvux"
      },
      "outputs": [],
      "source": [
        "confusion_Test = skm.confusion_matrix(calc_Y_label, true_Y_label)"
      ]
    },
    {
      "cell_type": "code",
      "execution_count": 56,
      "metadata": {
        "id": "xEUu3iEYvHEb",
        "colab": {
          "base_uri": "https://localhost:8080/",
          "height": 250
        },
        "outputId": "f527fb46-7092-4542-aa58-d7cab7e11517"
      },
      "outputs": [
        {
          "output_type": "display_data",
          "data": {
            "text/plain": [
              "<Figure size 432x288 with 2 Axes>"
            ],
            "image/png": "[encoded data removed]"
          },
          "metadata": {
            "needs_background": "light"
          }
        }
      ],
      "source": [
        "text = np.asarray([['# true clean', '# false clean'], ['# false anomaly', '# true anomaly']])\n",
        "labels = (np.asarray([\"{0}\\n{1:.0f}\".format(text,confusion_Test) for text, confusion_Test in zip(text.flatten(), confusion_Test.flatten())])).reshape(2,2)\n",
        "\n",
        "heat_map = sb.heatmap(confusion_Test, xticklabels=False, yticklabels=False, annot=labels, fmt='')"
      ]
    },
    {
      "cell_type": "code",
      "execution_count": 57,
      "metadata": {
        "id": "iFu1s2Mlp-6F",
        "colab": {
          "base_uri": "https://localhost:8080/",
          "height": 248
        },
        "outputId": "cb008f81-c47e-4b5a-8f28-e88475ad726c"
      },
      "outputs": [
        {
          "output_type": "display_data",
          "data": {
            "text/plain": [
              "<Figure size 432x288 with 2 Axes>"
            ],
            "image/png": "[encoded data removed]"
          },
          "metadata": {
            "needs_background": "light"
          }
        }
      ],
      "source": [
        "norm_confusion_Test = confusion_Test/len(true_Y_label)\n",
        "\n",
        "text = np.asarray([['True clean', 'False clean'], ['False anomaly', 'True anomaly']])\n",
        "labels = (np.asarray([\"{0}\\n{1:.2f}\".format(text,norm_confusion_Test) for text, norm_confusion_Test in zip(text.flatten(), norm_confusion_Test.flatten())])).reshape(2,2)\n",
        "\n",
        "heat_map = sb.heatmap(confusion_Test/len(true_Y_label), xticklabels=False, yticklabels=False, annot=labels, fmt='')"
      ]
    },
    {
      "cell_type": "code",
      "source": [
        "mse_val = np.load('mse_val.npy', mmap_mode = 'r')"
      ],
      "metadata": {
        "id": "J997yULNIqHH"
      },
      "execution_count": 58,
      "outputs": []
    },
    {
      "cell_type": "code",
      "source": [
        "Val_set_label = np.load('Val_set_label.npy', mmap_mode = 'r')"
      ],
      "metadata": {
        "id": "MKGsoKXSIpu4"
      },
      "execution_count": 59,
      "outputs": []
    },
    {
      "cell_type": "code",
      "source": [
        "true_Y_label = []\n",
        "calc_Y_label = []\n",
        "\n",
        "true_Y_label = [int(label != 'clean') for label in Val_set_label]\n",
        "calc_Y_label = [int(mse >= threshold) for mse in mse_val]"
      ],
      "metadata": {
        "id": "ZlrRU1RNIpl8"
      },
      "execution_count": 60,
      "outputs": []
    },
    {
      "cell_type": "code",
      "source": [
        "confusion_Test = skm.confusion_matrix(calc_Y_label, true_Y_label)"
      ],
      "metadata": {
        "id": "pQPQ_HLNIpVk"
      },
      "execution_count": 61,
      "outputs": []
    },
    {
      "cell_type": "code",
      "source": [
        "text = np.asarray([['# true clean', '# false clean'], ['# false anomaly', '# true anomaly']])\n",
        "labels = (np.asarray([\"{0}\\n{1:.0f}\".format(text,confusion_Test) for text, confusion_Test in zip(text.flatten(), confusion_Test.flatten())])).reshape(2,2)\n",
        "\n",
        "heat_map = sb.heatmap(confusion_Test, xticklabels=False, yticklabels=False, annot=labels, fmt='')"
      ],
      "metadata": {
        "colab": {
          "base_uri": "https://localhost:8080/",
          "height": 248
        },
        "id": "Kj9QEij9JD2C",
        "outputId": "a275b9d4-d091-4b59-84fd-1cb53a9ebd18"
      },
      "execution_count": 62,
      "outputs": [
        {
          "output_type": "display_data",
          "data": {
            "text/plain": [
              "<Figure size 432x288 with 2 Axes>"
            ],
            "image/png": "[encoded data removed]"
          },
          "metadata": {
            "needs_background": "light"
          }
        }
      ]
    },
    {
      "cell_type": "code",
      "source": [
        "norm_confusion_Test = confusion_Test/len(true_Y_label)\n",
        "\n",
        "text = np.asarray([['True clean', 'False clean'], ['False anomaly', 'True anomaly']])\n",
        "labels = (np.asarray([\"{0}\\n{1:.2f}\".format(text,norm_confusion_Test) for text, norm_confusion_Test in zip(text.flatten(), norm_confusion_Test.flatten())])).reshape(2,2)\n",
        "\n",
        "heat_map = sb.heatmap(confusion_Test/len(true_Y_label), xticklabels=False, yticklabels=False, annot=labels, fmt='')"
      ],
      "metadata": {
        "colab": {
          "base_uri": "https://localhost:8080/",
          "height": 248
        },
        "id": "wOjtJoxvLLrh",
        "outputId": "1e310f7e-393b-41ba-cc73-cff3a3dfdb4c"
      },
      "execution_count": 63,
      "outputs": [
        {
          "output_type": "display_data",
          "data": {
            "text/plain": [
              "<Figure size 432x288 with 2 Axes>"
            ],
            "image/png": "[encoded data removed]"
          },
          "metadata": {
            "needs_background": "light"
          }
        }
      ]
    },
    {
      "cell_type": "markdown",
      "source": [
        "#CLUSTERING\n",
        "\n",
        "Now that we have defined a threshold for distinguishing clean samples from anomalous ones, let's try to evaluate the various types of attacks and to categorize them."
      ],
      "metadata": {
        "id": "agYT15QUFYU_"
      }
    },
    {
      "cell_type": "code",
      "source": [
        "from sklearn.cluster import KMeans\n",
        "from sklearn.metrics.cluster import adjusted_rand_score"
      ],
      "metadata": {
        "id": "4-NiYZZZFtTY"
      },
      "execution_count": 64,
      "outputs": []
    },
    {
      "cell_type": "markdown",
      "source": [
        "##BUILD THE MODEL\n",
        "\n",
        "Here we build the encoder."
      ],
      "metadata": {
        "id": "ZuSsad8AmHK4"
      }
    },
    {
      "cell_type": "code",
      "source": [
        "encoder = keras.Model(encoder_input, encoder_output, name = 'encoder')\n",
        "optimizer = keras.optimizers.Adam()\n",
        "\n",
        "encoder.summary()"
      ],
      "metadata": {
        "colab": {
          "base_uri": "https://localhost:8080/"
        },
        "id": "Vnx5ludKYR87",
        "outputId": "32dc2387-0a79-4e72-c381-212be78fb1b5"
      },
      "execution_count": 65,
      "outputs": [
        {
          "output_type": "stream",
          "name": "stdout",
          "text": [
            "Model: \"encoder\"\n",
            "_________________________________________________________________\n",
            " Layer (type)                Output Shape              Param #   \n",
            "=================================================================\n",
            " input_1 (InputLayer)        [(None, 256, 256, 1)]     0         \n",
            "                                                                 \n",
            " conv2d (Conv2D)             (None, 256, 256, 16)      160       \n",
            "                                                                 \n",
            " max_pooling2d (MaxPooling2D  (None, 128, 128, 16)     0         \n",
            " )                                                               \n",
            "                                                                 \n",
            " conv2d_1 (Conv2D)           (None, 128, 128, 8)       1160      \n",
            "                                                                 \n",
            " max_pooling2d_1 (MaxPooling  (None, 64, 64, 8)        0         \n",
            " 2D)                                                             \n",
            "                                                                 \n",
            " flatten (Flatten)           (None, 32768)             0         \n",
            "                                                                 \n",
            " dense (Dense)               (None, 32)                1048608   \n",
            "                                                                 \n",
            "=================================================================\n",
            "Total params: 1,049,928\n",
            "Trainable params: 1,049,928\n",
            "Non-trainable params: 0\n",
            "_________________________________________________________________\n"
          ]
        }
      ]
    },
    {
      "cell_type": "markdown",
      "source": [
        "###Here we count how many sample we have for each category in the Y_test"
      ],
      "metadata": {
        "id": "pL9msatXnBVq"
      }
    },
    {
      "cell_type": "code",
      "source": [
        "X_test = np.load('X_test.npy', mmap_mode = 'r')\n",
        "Y_test = np.load('Y_test.npy', mmap_mode = 'r')\n",
        "\n",
        "label_to_number = []\n",
        "\n",
        "for label in Y_test: \n",
        "  if label == 'clean':\n",
        "    label_to_number.append(0)\n",
        "  if label == 'dos11':\n",
        "    label_to_number.append(1)\n",
        "  if label == 'dos53':\n",
        "    label_to_number.append(2)\n",
        "  if label == 'scan11':\n",
        "    label_to_number.append(3)\n",
        "  if label == 'scan44':\n",
        "    label_to_number.append(4)"
      ],
      "metadata": {
        "id": "EWjd18mrFkOs"
      },
      "execution_count": 66,
      "outputs": []
    },
    {
      "cell_type": "markdown",
      "source": [
        "**PREDICT THE MODEL OVER X_TEST**"
      ],
      "metadata": {
        "id": "A-IcVnXsn6po"
      }
    },
    {
      "cell_type": "code",
      "source": [
        "e_out = encoder.predict(X_test)"
      ],
      "metadata": {
        "id": "Y3u5W1i5FqFT"
      },
      "execution_count": 67,
      "outputs": []
    },
    {
      "cell_type": "markdown",
      "source": [
        "#KMEANS\n",
        "\n",
        "The k-means algorithm searches for a pre-determined number of clusters within an unlabeled dataset. In our case we have 5 cluster."
      ],
      "metadata": {
        "id": "PKk0otlhn8lC"
      }
    },
    {
      "cell_type": "code",
      "source": [
        "k = 5\n",
        "clusters = KMeans(k, random_state = 2)\n",
        "clusters.fit(e_out)"
      ],
      "metadata": {
        "colab": {
          "base_uri": "https://localhost:8080/"
        },
        "id": "PZQHnbnKF7-V",
        "outputId": "8ec82ae2-b6c6-4c4a-83b7-274bde6db06b"
      },
      "execution_count": 68,
      "outputs": [
        {
          "output_type": "execute_result",
          "data": {
            "text/plain": [
              "KMeans(n_clusters=5, random_state=2)"
            ]
          },
          "metadata": {},
          "execution_count": 68
        }
      ]
    },
    {
      "cell_type": "code",
      "source": [
        "labels_output = clusters.labels_"
      ],
      "metadata": {
        "id": "frox8pdlF4T2"
      },
      "execution_count": 69,
      "outputs": []
    },
    {
      "cell_type": "markdown",
      "source": [
        "The functuin here computes a similarity measure between two clusterings by considering all pairs of samples and counting pairs that are assigned in the same or different clusters in the predicted and true clusterings."
      ],
      "metadata": {
        "id": "dajwMEjgotMc"
      }
    },
    {
      "cell_type": "code",
      "source": [
        "print('K-Means performance in detecting and fitting correct labels: ', adjusted_rand_score(label_to_number, labels_output))"
      ],
      "metadata": {
        "colab": {
          "base_uri": "https://localhost:8080/"
        },
        "id": "dUBgXi7qF0AL",
        "outputId": "cbe8c75b-944d-4d8a-8283-51ba857f167e"
      },
      "execution_count": 70,
      "outputs": [
        {
          "output_type": "stream",
          "name": "stdout",
          "text": [
            "K-Means performance in detecting and fitting correct labels:  0.0865613569929289\n"
          ]
        }
      ]
    }
  ]
}